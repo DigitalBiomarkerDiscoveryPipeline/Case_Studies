{
  "cells": [
    {
      "cell_type": "markdown",
      "metadata": {
        "id": "view-in-github",
        "colab_type": "text"
      },
      "source": [
        "<a href=\"https://colab.research.google.com/github/DigitalBiomarkerDiscoveryPipeline/Education/blob/main/Case-Studies/Case_Study_ECG.ipynb\" target=\"_parent\"><img src=\"https://colab.research.google.com/assets/colab-badge.svg\" alt=\"Open In Colab\"/></a>"
      ]
    },
    {
      "cell_type": "markdown",
      "metadata": {
        "id": "cpG0a7_SOGeR"
      },
      "source": [
        "# Case Study\n",
        "## Validation of HR extracted from consumer wearables against ECG\n",
        "\n",
        "\n",
        "You own a smartwatch, and you are using it during your physical activity and activities of daily livings. You want to know how well it measures heart rate compared to the “gold standard” electrocardiogram (ECG) data.\n"
      ]
    },
    {
      "cell_type": "markdown",
      "metadata": {
        "id": "_1NmHhDUOGeV"
      },
      "source": [
        "# 1. Import libraries\n",
        "\n",
        "- [numpy](numpy.org): mathematical operations for multi-dimensional arrays and matrices, \n",
        "- [pandas](https://pandas.pydata.org/): data analysis tool, operations for numerical tables and time series\n",
        "- [bioSPPy](https://biosppy.readthedocs.io/en/latest/): signal processing and pattern recognition methods for biosignals\n",
        "- [heartPy](https://python-heart-rate-analysis-toolkit.readthedocs.io/en/latest/): toolkit mainly designed for PPG data analysis\n",
        "- [matplotlib](https://matplotlib.org/): toolkit for visualization\n",
        "- [statsmodels](https://www.statsmodels.org/stable/index.html): functions for statistical tests and statistical models\n",
        "- [scikit-learn](https://scikit-learn.org/stable/): tools for predictive data analysis\n",
        "- [scipy](https://scipy.org/): tools for optimization, integration, interpolation, eigenvalue problems, algebraic equations, differential equations, statistics and many other classes of problems\n",
        "- [mne](https://mne.tools/stable/index.html): Open-source Python package for exploring, visualizing, and analyzing human neurophysiological data: MEG, EEG, sEEG, ECoG, NIRS, and more. \n",
        "- [seaborn](https://seaborn.pydata.org/): visualization tool for statistical data"
      ]
    },
    {
      "cell_type": "code",
      "execution_count": null,
      "metadata": {
        "id": "1r5h19saP8fU"
      },
      "outputs": [],
      "source": [
        "%%capture\n",
        "\n",
        "# download and unzip dataset\n",
        "!gdown 1yD-o64q3sPVOSJLZK02Yh-BPViGaWGLl\n",
        "!unzip 19-002.zip\n",
        "\n",
        "# install packages\n",
        "!pip install biosppy\n",
        "!pip install heartpy\n",
        "!pip install mne\n",
        "\n",
        "# download helper function pyscripts\n",
        "\n",
        "!gdown --id 1ewjd6qUrt9gw2RWKVkHmf35MNcYERIWI\n",
        "!unzip preprocess.zip"
      ]
    },
    {
      "cell_type": "code",
      "execution_count": null,
      "metadata": {
        "id": "KTuEjQjbOGeV"
      },
      "outputs": [],
      "source": [
        "# import libraries\n",
        "import pandas as pd\n",
        "from biosppy.signals import ecg\n",
        "import heartpy as hp\n",
        "import matplotlib.pyplot as plt\n",
        "import statsmodels.api as sm\n",
        "import numpy as np\n",
        "from scipy.signal import resample\n",
        "import seaborn as sns\n",
        "import preprocess\n",
        "sns.set_theme(style=\"whitegrid\", palette=\"colorblind\")\n",
        "pd.options.mode.chained_assignment = None "
      ]
    },
    {
      "cell_type": "markdown",
      "metadata": {
        "id": "P3hlrDP_OGeX"
      },
      "source": [
        "# 2. Import data"
      ]
    },
    {
      "cell_type": "markdown",
      "metadata": {
        "id": "m5SU8s8JOGeX"
      },
      "source": [
        "[STEP dataset](https://github.com/DigitalBiomarkerDiscoveryPipeline/Digital_Health_Data_Repository/tree/main/Cardiovascular/Dataset_STEP) includes heart rate (HR) measurements collected from **six wearable devices** (Apple Watch 4, Fitbit Charge 2, Garmin Vivosmart 3, Xiaomi Midband 3, Empatica E4, and Biovotion Everion) and the raw **ECG** signal data sampled around 1000 Hz."
      ]
    },
    {
      "cell_type": "markdown",
      "metadata": {
        "id": "FvlbKm-GOGeX"
      },
      "source": [
        "In this section, we will import the heart rate dataset collected from one participant (19-002).  "
      ]
    },
    {
      "cell_type": "markdown",
      "metadata": {
        "id": "gvomQ-3k84vF"
      },
      "source": [
        "## 2.1 Empatica"
      ]
    },
    {
      "cell_type": "code",
      "execution_count": null,
      "metadata": {
        "id": "dK_CuVVzOGeY"
      },
      "outputs": [],
      "source": [
        "empatica_path = './19-002/Empatica'\n",
        "empatica_data = preprocess.empatica(empatica_path, data_type = \"HR\")\n",
        "empatica_data.head()"
      ]
    },
    {
      "cell_type": "markdown",
      "metadata": {
        "id": "loFBLO7U9AYJ"
      },
      "source": [
        "## 2.2 Apple Watch"
      ]
    },
    {
      "cell_type": "code",
      "execution_count": null,
      "metadata": {
        "id": "dw3Fe-axOGeZ"
      },
      "outputs": [],
      "source": [
        "apple_path = './19-002/Apple Watch.csv'\n",
        "apple_watch_data = preprocess.apple(apple_path)\n",
        "apple_watch_data.head()"
      ]
    },
    {
      "cell_type": "markdown",
      "metadata": {
        "id": "Tn54i6-a-Ouc"
      },
      "source": [
        "## 2.3 Garmin"
      ]
    },
    {
      "cell_type": "code",
      "execution_count": null,
      "metadata": {
        "id": "8FY-0dwgOGea"
      },
      "outputs": [],
      "source": [
        "garmin_path = './19-002/garmin.tcx'\n",
        "garmin_data = preprocess.garmin(garmin_path)\n",
        "garmin_data.head()"
      ]
    },
    {
      "cell_type": "markdown",
      "metadata": {
        "id": "1qljksLR-T3W"
      },
      "source": [
        "## 2.4 Fitbit"
      ]
    },
    {
      "cell_type": "code",
      "execution_count": null,
      "metadata": {
        "id": "JUWAx1r9OGea"
      },
      "outputs": [],
      "source": [
        "fitbit_path = './19-002/fitbit.csv'\n",
        "fitbit_data = preprocess.fitbit(fitbit_path)\n",
        "fitbit_data.head()"
      ]
    },
    {
      "cell_type": "markdown",
      "metadata": {
        "id": "Yrq8TgLx-ZD6"
      },
      "source": [
        "## 2.5 ECG"
      ]
    },
    {
      "cell_type": "code",
      "execution_count": null,
      "metadata": {
        "id": "kznyRNmXOGeb"
      },
      "outputs": [],
      "source": [
        "ecg_path = './19-002/ECG/ECG.EDF'\n",
        "ecg_data = preprocess.ecg(ecg_path)\n",
        "\n",
        "# set sample rate (device specifications)\n",
        "sample_rate = 1000"
      ]
    },
    {
      "cell_type": "markdown",
      "metadata": {
        "id": "ZcDucfTeOGec"
      },
      "source": [
        "# 3. ECG preprocessing"
      ]
    },
    {
      "cell_type": "markdown",
      "source": [
        "## 3.0 Plot and View ECG"
      ],
      "metadata": {
        "id": "whDWr9uR9hk5"
      }
    },
    {
      "cell_type": "code",
      "execution_count": null,
      "metadata": {
        "id": "PCk5rDGrOGec"
      },
      "outputs": [],
      "source": [
        "def plot_ecg_signal(df, title = '', xlabel = '', ylabel = '', zoom = []):\n",
        "    \"\"\"Plots ecg signal with an option of zooming into specified time interval.\n",
        "        Keyword arguments:\n",
        "        df -- the dataframe containing 'Elapsed_time_(sec)' and '#_ECG' as columns \n",
        "        title -- the title for the resulting plot (default '')\n",
        "        xlabel -- the title for the resulting plot (default '')\n",
        "        ylabel -- the title for the resulting plot (default '')\n",
        "        zoom -- a list splecifying the lower and upper limit of the time interval to zoom into [lower, upper] (default [])\n",
        "        \"\"\"\n",
        "    plt.figure(figsize=(12,3))\n",
        "    plt.title(title)\n",
        "    plt.xlabel(xlabel)\n",
        "    plt.ylabel(ylabel)\n",
        "\n",
        "    if len(zoom) > 0:\n",
        "        zoomed = df.loc[df['Elapsed_time_(sec)'] >= zoom[0]].copy()\n",
        "        zoomed = zoomed[zoomed['Elapsed_time_(sec)'] <= zoom[1]]\n",
        "        plt.plot(zoomed['Elapsed_time_(sec)'], zoomed['#_ECG'])\n",
        "    else:\n",
        "        plt.plot(df['Elapsed_time_(sec)'], df['#_ECG'])\n",
        "        \n",
        "    plt.xlim(left=0)\n"
      ]
    },
    {
      "cell_type": "code",
      "execution_count": null,
      "metadata": {
        "id": "y4GwTqK_OGec"
      },
      "outputs": [],
      "source": [
        "plot_ecg_signal(ecg_data, \n",
        "                title = 'Unfiltered ECG Data', \n",
        "                xlabel = 'Elapsed time (sec)', \n",
        "                ylabel = 'ECG in mV')"
      ]
    },
    {
      "cell_type": "markdown",
      "metadata": {
        "id": "1pMJ86oNAzxZ"
      },
      "source": [
        "## 3.1 Cut out noisy ends\n",
        "\n",
        "The start and the end of the ECG data may contain motion artifacts, leading the signal to be too noisy. If necessary, we will ignore these noisy parts out by eliminating them from our signal. "
      ]
    },
    {
      "cell_type": "code",
      "execution_count": null,
      "metadata": {
        "id": "OSsojyWWOGec"
      },
      "outputs": [],
      "source": [
        "# Cut the start and end by specifying the time interval to keep\n",
        "# Of note, this step will overwrite the ecg_data. To revert, rerun the ECG import cell.\n",
        "\n",
        "# time_interval = [lower, upper] -- Replace the the lower and upper values from the time_interval variable\n",
        "# time_interval = [0, int(len(ecg_data)/sample_rate)]\n",
        "time_interval = [0, 2800]\n",
        "\n",
        "ecg_data = ecg_data.iloc[(time_interval[0]*sample_rate):(time_interval[1]*sample_rate)]\n"
      ]
    },
    {
      "cell_type": "code",
      "execution_count": null,
      "metadata": {
        "id": "lzF44AZTOGed"
      },
      "outputs": [],
      "source": [
        "# Replot the signal\n",
        "plot_ecg_signal(ecg_data, \n",
        "                title = 'Unfiltered ECG Data', \n",
        "                xlabel = 'Elapsed time (sec)', \n",
        "                ylabel = 'ECG in mV')"
      ]
    },
    {
      "cell_type": "code",
      "execution_count": null,
      "metadata": {
        "id": "UCafRDZIOGed"
      },
      "outputs": [],
      "source": [
        "# Using the zoom feature of the plotting function\n",
        "# Replace the [lower, upper] bounds of the time interval to zoom into\n",
        "\n",
        "plot_ecg_signal(ecg_data, \n",
        "                title = 'Unfiltered ECG Data (Zoomed to show first 10 seconds)', \n",
        "                xlabel = 'Elapsed time (sec)', \n",
        "                ylabel = 'ECG in mV', zoom = [0, 10])"
      ]
    },
    {
      "cell_type": "code",
      "execution_count": null,
      "metadata": {
        "id": "_QXWqNfPOGed"
      },
      "outputs": [],
      "source": [
        "# Run heart rate signal peak detection \n",
        "\n",
        "wd, m = hp.process(ecg_data['#_ECG'], sample_rate)\n",
        "\n",
        "plt.figure(figsize=(12,4))\n",
        "hp.plotter(wd, m)\n"
      ]
    },
    {
      "cell_type": "code",
      "execution_count": null,
      "metadata": {
        "id": "KaEjyk-zOGed"
      },
      "outputs": [],
      "source": [
        "# We can also look into specific sections for heart rate signal peak detection. \n",
        "# Run heart rate signal peak detection for the first 10 seconds.\n",
        "\n",
        "# time_interval = [lower, upper] -- Replace the the lower and upper values from the time_interval variable\n",
        "time_interval = [0,10]\n",
        "\n",
        "wd, m = hp.process(ecg_data['#_ECG'][time_interval[0]*sample_rate : time_interval[1]*sample_rate], \n",
        "                   sample_rate)\n",
        "\n",
        "plt.figure(figsize=(12,4))\n",
        "hp.plotter(wd, m)\n"
      ]
    },
    {
      "cell_type": "markdown",
      "metadata": {
        "id": "SQXRU8mnOGee"
      },
      "source": [
        "## 3.2 Baseline Wander Filter\n",
        "\n",
        "Baseline wander is a \"**low frequency** artifact (i.e. \n",
        "noise) that arises from breathing, electrically charged electrodes, or subject movement and can hinder the detection of these ST changes.\" While baseline wander may be located at higher frequencies, it is recommended as standard practice to design the baseline wander filter with a maximum cutoff frequency at 0.05 Hz. \n",
        "\n",
        "> *Lenis, G., Pilia, N., Loewe, A., Schulze, W. H., & Dössel, O. (2017). Comparison of Baseline Wander Removal Techniques considering the Preservation of ST Changes in the Ischemic ECG: A Simulation Study. Computational and mathematical methods in medicine, 2017, 9295029. https://doi.org/10.1155/2017/9295029*\n",
        "\n"
      ]
    },
    {
      "cell_type": "code",
      "execution_count": null,
      "metadata": {
        "id": "y9DUM9boOGee"
      },
      "outputs": [],
      "source": [
        "# create a copy of the ecg_data\n",
        "filtered = ecg_data.copy()\n",
        "\n",
        "# apply baseline wander filter with a specified cutoff frequecy (defaulted to 0.05)\n",
        "filtered[\"#_ECG\"] = hp.remove_baseline_wander(ecg_data['#_ECG'], sample_rate, cutoff = 0.05)\n",
        "\n",
        "# plot the filtered signal\n",
        "plot_ecg_signal(ecg_data, \n",
        "                title = 'Unfiltered ECG Data', \n",
        "                xlabel = 'Elapsed time (sec)', \n",
        "                ylabel = 'ECG in mV', zoom = [0, 10])\n",
        "# plot the filtered signal zoomed to 0 to 10 seconds\n",
        "plot_ecg_signal(filtered, \n",
        "                title = 'Filtered ECG Data (First 10 Seconds)', \n",
        "                xlabel = 'Elapsed time (sec)', \n",
        "                ylabel = 'ECG in mV', zoom = [0, 10])\n"
      ]
    },
    {
      "cell_type": "code",
      "execution_count": null,
      "metadata": {
        "id": "vP-_XtIxMhig"
      },
      "outputs": [],
      "source": [
        "# Run heart rate signal peak detection on entire signal\n",
        "wd, m = hp.process(filtered[\"#_ECG\"], sample_rate)\n",
        "plt.figure(figsize=(12,4))\n",
        "hp.plotter(wd, m)\n",
        "\n",
        "# Run heart rate signal peak detection for the first 10 seconds.\n",
        "# time_interval = [lower, upper] -- Replace the the lower and upper values from the time_interval variable\n",
        "time_interval = [0,10]\n",
        "\n",
        "wd, m = hp.process(filtered[\"#_ECG\"][time_interval[0]*sample_rate : time_interval[1]*sample_rate], \n",
        "                   sample_rate)\n",
        "plt.figure(figsize=(12,4))\n",
        "hp.plotter(wd, m)"
      ]
    },
    {
      "cell_type": "markdown",
      "metadata": {
        "id": "cXq_gy4nOGee"
      },
      "source": [
        "## 3.3 (Optional) Bandpass filter\n",
        "\n",
        "Bandpass filter is designed to surpress freuqencies that are outside the specified **cutoff interval**, specified by a lower and upper threshold. \n",
        "\n",
        "*   **Remove low frequency:** \n",
        "*   **Remove high frequency:** From literature, it is recommended to have \"an upper-frequency cutoff of at least **150 Hz**\" for adults. \n",
        "* The **order** of the bandpass filter can also be specified to adjust the width of the filter (narrow or wide). https://www.electronics-tutorials.ws/filter/filter_8.html\n",
        "\n",
        "![image.png](data:image/png;base64,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)\n",
        "\n",
        "\n",
        ">Kligfield, P., Gettes, L. S., Bailey, J. J., Childers, R., Deal, B. J., Hancock, E. W., van Herpen, G., Kors, J. A., Macfarlane, P., Mirvis, D. M., Pahlm, O., Rautaharju, P., Wagner, G. S., American Heart Association Electrocardiography and Arrhythmias Committee, Council on Clinical Cardiology, American College of Cardiology Foundation, Heart Rhythm Society, Josephson, M., Mason, J. W., Okin, P., Surawicz, B., … Wellens, H. (2007). Recommendations for the standardization and interpretation of the electrocardiogram: part I: The electrocardiogram and its technology: a scientific statement from the American Heart Association Electrocardiography and Arrhythmias Committee, Council on Clinical Cardiology; the American College of Cardiology Foundation; and the Heart Rhythm Society: endorsed by the International Society for Computerized Electrocardiology. Circulation, 115(10), 1306–1324. https://doi.org/10.1161/CIRCULATIONAHA.106.180200\n",
        "\n",
        "\n"
      ]
    },
    {
      "cell_type": "code",
      "execution_count": null,
      "metadata": {
        "id": "xX1_oKvROGee"
      },
      "outputs": [],
      "source": [
        "temp = hp.filter_signal(filtered[\"#_ECG\"], \n",
        "                                     cutoff = [0.05,150], \n",
        "                                     sample_rate = sample_rate, \n",
        "                                     filtertype='bandpass')"
      ]
    },
    {
      "cell_type": "code",
      "execution_count": null,
      "metadata": {
        "id": "bzcb1FC6MUOx"
      },
      "outputs": [],
      "source": [
        "# create a copy\n",
        "\n",
        "filtered_2 = filtered.copy()\n",
        "filtered_2[\"#_ECG\"] = temp\n",
        "\n",
        "# Plot the filtered signal zoomed to 0 to 10 seconds\n",
        "plot_ecg_signal(filtered_2, \n",
        "                title = 'Filtered ECG Data (First 10 Seconds)', \n",
        "                xlabel = 'Elapsed time (sec)', \n",
        "                ylabel = 'ECG in mV', zoom = [0, 10])\n",
        "\n",
        "\n",
        "# Run heart rate signal peak detection on entire signal\n",
        "wd, m = hp.process(temp, sample_rate)\n",
        "plt.figure(figsize=(12,4))\n",
        "hp.plotter(wd, m)\n",
        "\n",
        "# Run heart rate signal peak detection for the first 10 seconds.\n",
        "# time_interval = [lower, upper] -- Replace the the lower and upper values from the time_interval variable\n",
        "time_interval = [0,10]\n",
        "\n",
        "wd, m = hp.process(temp[time_interval[0]*sample_rate : time_interval[1]*sample_rate], \n",
        "                   sample_rate)\n",
        "plt.figure(figsize=(12,4))\n",
        "hp.plotter(wd, m)"
      ]
    },
    {
      "cell_type": "code",
      "execution_count": null,
      "metadata": {
        "id": "d4OckL1qMAyX"
      },
      "outputs": [],
      "source": [
        "# If you like what yous see, save the filtered signal!\n",
        "filtered[\"#_ECG\"] = temp"
      ]
    },
    {
      "cell_type": "code",
      "source": [
        "plot_ecg_signal(filtered, \n",
        "                title = 'Filtered ECG Data', \n",
        "                xlabel = 'Elapsed time (sec)', \n",
        "                ylabel = 'ECG in mV')\n"
      ],
      "metadata": {
        "id": "MkvG0tFY1s9B"
      },
      "execution_count": null,
      "outputs": []
    },
    {
      "cell_type": "markdown",
      "metadata": {
        "id": "DupmhNx8PDkr"
      },
      "source": [
        "# 4. ECG Heart Rate Extraction"
      ]
    },
    {
      "cell_type": "code",
      "execution_count": null,
      "metadata": {
        "id": "BVgjhDY1OGeg"
      },
      "outputs": [],
      "source": [
        "data = filtered['#_ECG'].values"
      ]
    },
    {
      "cell_type": "code",
      "execution_count": null,
      "metadata": {
        "id": "e6QfKNBIOGeg"
      },
      "outputs": [],
      "source": [
        "segment_width = 10\n",
        "wd, m = hp.process_segmentwise(data, sample_rate, segment_width= segment_width, segment_overlap= 0, \n",
        "                                   replace_outliers = True, mode = 'full', outlier_method = 'iqr', bpmmax = 120)"
      ]
    },
    {
      "cell_type": "code",
      "execution_count": null,
      "metadata": {
        "id": "sdWNn1xJOGeg"
      },
      "outputs": [],
      "source": [
        "ecg_HR = pd.DataFrame({'HR_ecg': m['bpm']})\n",
        "ecg_HR['Elapsed_time_(sec)'] = (np.array(ecg_HR.index) + 1) * segment_width\n",
        "ecg_HR['HR_ecg'] = ecg_HR['HR_ecg'].fillna(method = 'ffill')"
      ]
    },
    {
      "cell_type": "code",
      "execution_count": null,
      "metadata": {
        "id": "zz5m9I-gOGeg"
      },
      "outputs": [],
      "source": [
        "ecg_HR.head()"
      ]
    },
    {
      "cell_type": "code",
      "execution_count": null,
      "metadata": {
        "id": "HFIRwxvWOGeg"
      },
      "outputs": [],
      "source": [
        "\n",
        "ecg_HR.plot(x = 'Elapsed_time_(sec)', y = 'HR_ecg',figsize=(12,4))"
      ]
    },
    {
      "cell_type": "markdown",
      "metadata": {
        "id": "TNp1DBdlOGeg"
      },
      "source": [
        "# 5. Resample all heart rate data\n",
        "For fair comparison, we will resample each modalities in k seconds, either performing linear interpolation or simple forward filling the missing values."
      ]
    },
    {
      "cell_type": "code",
      "execution_count": null,
      "metadata": {
        "id": "_g-uzVx4OGeg"
      },
      "outputs": [],
      "source": [
        "# specify the resampling time k -- here, we want our dataframe to have values for each second\n",
        "# specify whether to interpolate the missing value or carry forward last known value\n",
        "k = 1\n",
        "\n",
        "resampled_empatica = preprocess.resample_and_interpolate(empatica_data, interpolate_col = 'HR_Empatica', resample_step = k, interpolate = False)\n",
        "resampled_apple = preprocess.resample_and_interpolate(apple_watch_data, interpolate_col = 'HR_Apple', resample_step = k, interpolate = False)\n",
        "resampled_garmin = preprocess.resample_and_interpolate(garmin_data, interpolate_col = 'HR_Garmin', resample_step = k, interpolate = False)\n",
        "resampled_fitbit = preprocess.resample_and_interpolate(fitbit_data, interpolate_col = 'HR_Fitbit', resample_step = k, interpolate = False)\n",
        "resampled_ecg = preprocess.resample_and_interpolate(ecg_HR, interpolate_col = 'HR_ecg', resample_step = k, interpolate = False)\n"
      ]
    },
    {
      "cell_type": "markdown",
      "metadata": {
        "id": "csycWWu9OGeh"
      },
      "source": [
        "# 6. Visualization"
      ]
    },
    {
      "cell_type": "code",
      "execution_count": null,
      "metadata": {
        "id": "pizhQvxyOGeh"
      },
      "outputs": [],
      "source": [
        "fig, ((ax1, ax2), (ax3, ax4), (ax5, ax6)) = plt.subplots(3, 2, figsize=(15,15))\n",
        "\n",
        "axes = [ax1, ax2, ax3, ax4, ax5, ax6]\n",
        "modalities = [ecg_HR, apple_watch_data, empatica_data, fitbit_data, garmin_data]\n",
        "modalities = [resampled_ecg, resampled_apple, resampled_empatica, resampled_fitbit, resampled_garmin]\n",
        "max_time = ecg_HR['Elapsed_time_(sec)'].max()\n",
        "for i, watch_type in enumerate(modalities):\n",
        "    x = watch_type['Elapsed_time_(sec)']\n",
        "    y = watch_type.filter(regex='HR')\n",
        "    axes[i].plot(x.values, y.values)\n",
        "    axes[i].scatter(x.values, y.values, alpha = 0.3)\n",
        "    axes[i].set_xlabel('Elapsed_time_(sec)')\n",
        "    axes[i].set_ylabel('Estimated Heart Rate (BPM)')\n",
        "    axes[i].set_title(y.columns[0])\n",
        "    axes[i].set_ylim([40,180])\n",
        "    axes[i].set_xlim(xmin=0)\n",
        "    plt.xlim(left=0)\n",
        "    \n",
        "fig.tight_layout()"
      ]
    },
    {
      "cell_type": "markdown",
      "metadata": {
        "id": "SP4aTfe7OGeh"
      },
      "source": [
        "# 7. Time Alignment"
      ]
    },
    {
      "cell_type": "code",
      "execution_count": null,
      "metadata": {
        "id": "_PvnHuHqOGeh"
      },
      "outputs": [],
      "source": [
        "all_HR = resampled_ecg.copy()\n",
        "all_HR = all_HR.merge(resampled_apple, on = 'Elapsed_time_(sec)', how = 'outer')\n",
        "all_HR = all_HR.merge(resampled_empatica, on = 'Elapsed_time_(sec)', how = 'outer')\n",
        "all_HR = all_HR.merge(resampled_garmin, on = 'Elapsed_time_(sec)', how = 'outer')\n",
        "all_HR = all_HR.merge(resampled_fitbit, on = 'Elapsed_time_(sec)', how = 'outer')\n",
        "\n",
        "watches = ['HR_Apple', 'HR_Empatica', 'HR_Garmin', 'HR_Fitbit']\n",
        "\n",
        "# specify the values to be shifted (positive = to the right, negative = to the left)\n",
        "apple_shift = 490\n",
        "empatica_shift = -550\n",
        "garmin_shift = 1880\n",
        "fitbit_shift = 800\n",
        "\n",
        "annotate_rest = 0\n",
        "annotate_paced_breathing = 250\n",
        "annotate_physical_activity = 500\n",
        "annotate_washout = 800\n",
        "\n",
        "shifts = [apple_shift, empatica_shift, garmin_shift, fitbit_shift]\n",
        "\n",
        "arrowprops = {'width': 0.5, 'linewidth': 1, 'headwidth': 1, 'headlength': 1, \n",
        "              'shrink':0.05 , 'color': 'grey', 'alpha': 0.5, 'linestyle': '--'}\n",
        "\n",
        "{'-',}\n",
        "\n",
        "for j, i in enumerate(watches): \n",
        "    \n",
        "    all_HR_temp = all_HR.copy()\n",
        "    all_HR_temp[i] = all_HR_temp[i].shift(shifts[j])\n",
        "    ax = all_HR_temp.plot(x = 'Elapsed_time_(sec)', y = 'HR_ecg',\n",
        "               figsize = (15,4), alpha = 0.6, grid = True, color = 'grey')\n",
        "    all_HR_temp.plot(x = 'Elapsed_time_(sec)', y = i,\n",
        "               figsize = (15,4), alpha = 0.8, grid = True, color = 'red', ax = ax)\n",
        "    ymin, ymax = plt.ylim()\n",
        "\n",
        "    plt.annotate('Rest', xy =(annotate_rest, ymin),\n",
        "                xytext=(annotate_rest, ymax), rotation=90, va='bottom', ha='center', annotation_clip=False, arrowprops=arrowprops)\n",
        "\n",
        "    plt.annotate('Paced\\nBreathing', xy =(annotate_paced_breathing, ymin),\n",
        "                xytext =(annotate_paced_breathing, ymax), rotation=90, va='bottom', ha='center', annotation_clip=False, arrowprops=arrowprops)\n",
        "\n",
        "    plt.annotate('Activity', xy =(annotate_physical_activity, ymin),\n",
        "                xytext =(annotate_physical_activity, ymax), rotation=90, va='bottom', ha='center', annotation_clip=False, arrowprops=arrowprops)\n",
        "\n",
        "    plt.annotate('Washout', xy =(annotate_washout, ymin),\n",
        "                xytext = (annotate_washout, ymax),rotation=90, va='bottom', ha='center', annotation_clip=False, arrowprops=arrowprops)\n"
      ]
    },
    {
      "cell_type": "code",
      "execution_count": null,
      "metadata": {
        "id": "UWg6zHp5OGeh"
      },
      "outputs": [],
      "source": [
        "# If you like what you see, make the shifts permanent!\n",
        "\n",
        "for j, i in enumerate(watches): \n",
        "    all_HR[i] = all_HR[i].shift(shifts[j])"
      ]
    },
    {
      "cell_type": "code",
      "execution_count": null,
      "metadata": {
        "id": "n8eE5uZUOGeh"
      },
      "outputs": [],
      "source": [
        "all_HR"
      ]
    },
    {
      "cell_type": "code",
      "execution_count": null,
      "metadata": {
        "id": "UxZorL_1OGei"
      },
      "outputs": [],
      "source": [
        "# (optional) Manual cutoff if needed\n",
        "# If you look closely, fitbit has a long static  measurement. \n",
        "# This can be removed by setting the cutoff interval.\n",
        "\n",
        "time_interval = [1800, 2789]\n",
        "\n",
        "mask = (all_HR['Elapsed_time_(sec)'] <= time_interval[0]) | (all_HR['Elapsed_time_(sec)'] >= time_interval[1])\n",
        "all_HR.loc[mask, \"HR_Fitbit\"] = np.nan"
      ]
    },
    {
      "cell_type": "code",
      "execution_count": null,
      "metadata": {
        "id": "9odFZbMdzhF-"
      },
      "outputs": [],
      "source": [
        "# drop all rows that do not have the ecg value reported\n",
        "all_HR = all_HR.dropna(subset = ['HR_ecg'])"
      ]
    },
    {
      "cell_type": "markdown",
      "metadata": {
        "id": "vKpTlZDGU8je"
      },
      "source": [
        "# 8. Comparison"
      ]
    },
    {
      "cell_type": "markdown",
      "metadata": {
        "id": "IgVogErwWjev"
      },
      "source": [
        "## 8.1 Error Calculation\n",
        "We will look into the directional error (DE) and the absolute error (AE) of HR measurements as defined by https://www.nature.com/articles/s41746-020-0226-6#Sec10. \n"
      ]
    },
    {
      "cell_type": "code",
      "execution_count": null,
      "metadata": {
        "id": "09YYNPv0OGei"
      },
      "outputs": [],
      "source": [
        "de = all_HR.copy()\n",
        "\n",
        "for col in de.filter(regex='HR'):\n",
        "    de[col] = de[col]-all_HR['HR_ecg']\n",
        "\n",
        "de = de.drop(['Elapsed_time_(sec)', 'HR_ecg'], axis = 1)\n",
        "\n",
        "ae = abs(de.copy())\n"
      ]
    },
    {
      "cell_type": "code",
      "execution_count": null,
      "metadata": {
        "id": "DRwD9FXxOGei"
      },
      "outputs": [],
      "source": [
        "de.describe()"
      ]
    },
    {
      "cell_type": "code",
      "execution_count": null,
      "metadata": {
        "id": "bxEReLJjWupz"
      },
      "outputs": [],
      "source": [
        "ae.describe()"
      ]
    },
    {
      "cell_type": "code",
      "execution_count": null,
      "metadata": {
        "id": "2C5_26QGW3Wl"
      },
      "outputs": [],
      "source": [
        "\n",
        "plt.figure(figsize = (8,8))\n",
        "box_plot  = sns.boxplot(data = de).set(\n",
        "    xlabel='Wearable Devices', \n",
        "    ylabel='Directional Error (MDE)'\n",
        ")\n"
      ]
    },
    {
      "cell_type": "code",
      "source": [
        "\n",
        "plt.figure(figsize = (8,8))\n",
        "box_plot  = sns.boxplot(data = ae).set(\n",
        "    xlabel='Wearable Devices', \n",
        "    ylabel='Absolute Error (AE)'\n",
        ")\n"
      ],
      "metadata": {
        "id": "HegPfp-Ca0d6"
      },
      "execution_count": null,
      "outputs": []
    },
    {
      "cell_type": "markdown",
      "metadata": {
        "id": "D61_mVhGYUMP"
      },
      "source": [
        "## 8.2 Correlation Plot"
      ]
    },
    {
      "cell_type": "code",
      "execution_count": null,
      "metadata": {
        "id": "RrZQjO_CYbuz"
      },
      "outputs": [],
      "source": [
        "corr_with_HR_ECG = all_HR.corr(method ='pearson').loc['HR_ecg']\n",
        "all_HR.corr(method ='pearson')"
      ]
    },
    {
      "cell_type": "code",
      "execution_count": null,
      "metadata": {
        "id": "9vqXRM5zOGei"
      },
      "outputs": [],
      "source": [
        "fig, ((ax1, ax2), (ax3, ax4)) = plt.subplots(2, 2, figsize=(20,15))\n",
        "axes = [ax1, ax2, ax3, ax4]\n",
        "\n",
        "i = 0\n",
        "for col in all_HR.filter(regex='HR'):\n",
        "    if col == 'HR_ecg':\n",
        "        pass\n",
        "    else:\n",
        "        temp = all_HR[['HR_ecg', col]].dropna()\n",
        "        x = temp['HR_ecg'].values\n",
        "        y = temp[col].values\n",
        "        sns.regplot(x='HR_ecg', y =col, data =temp, ax = axes[i], color = sns.color_palette('colorblind')[i])\n",
        "        axes[i].set_title(col[3:]+ ' (r-value: {:.3f})'.format(corr_with_HR_ECG[col]))\n",
        "        i +=1\n"
      ]
    },
    {
      "cell_type": "markdown",
      "metadata": {
        "id": "f0jcdqHvfEdi"
      },
      "source": [
        "## 8.3 Bland-Altman Plot"
      ]
    },
    {
      "cell_type": "code",
      "execution_count": null,
      "metadata": {
        "id": "Vc79bvPBOGei"
      },
      "outputs": [],
      "source": [
        "fig, ((ax1, ax2), (ax3, ax4)) = plt.subplots(2, 2, figsize=(20,15))\n",
        "axes = [ax1, ax2, ax3, ax4]\n",
        "\n",
        "i = 0\n",
        "for col in all_HR.filter(regex='HR'):\n",
        "    if col == 'HR_ecg':\n",
        "        pass\n",
        "    else:\n",
        "        sm.graphics.mean_diff_plot(all_HR['HR_ecg'], all_HR[col], \n",
        "                                   ax = axes[i], \n",
        "                                   scatter_kwds = {'c': sns.color_palette(\"colorblind\")[i]})\n",
        "        \n",
        "        axes[i].set_title('Bland-Altman Plot for ECG/' + col[3:])\n",
        "        i+=1\n"
      ]
    },
    {
      "cell_type": "code",
      "source": [],
      "metadata": {
        "id": "UJ3O9QCR_bQ8"
      },
      "execution_count": null,
      "outputs": []
    }
  ],
  "metadata": {
    "colab": {
      "collapsed_sections": [
        "_1NmHhDUOGeV",
        "P3hlrDP_OGeX",
        "ZcDucfTeOGec",
        "DupmhNx8PDkr",
        "TNp1DBdlOGeg",
        "csycWWu9OGeh",
        "SP4aTfe7OGeh",
        "vKpTlZDGU8je",
        "IgVogErwWjev",
        "D61_mVhGYUMP",
        "f0jcdqHvfEdi"
      ],
      "provenance": [],
      "include_colab_link": true
    },
    "kernelspec": {
      "display_name": "Python 3",
      "language": "python",
      "name": "python3"
    },
    "language_info": {
      "codemirror_mode": {
        "name": "ipython",
        "version": 3
      },
      "file_extension": ".py",
      "mimetype": "text/x-python",
      "name": "python",
      "nbconvert_exporter": "python",
      "pygments_lexer": "ipython3",
      "version": "3.8.8"
    },
    "vscode": {
      "interpreter": {
        "hash": "bb196349bbddc8123e1d3a1cf139e0e8a3d3d86086fb32439b6e6830bcb8ffe2"
      }
    }
  },
  "nbformat": 4,
  "nbformat_minor": 0
}