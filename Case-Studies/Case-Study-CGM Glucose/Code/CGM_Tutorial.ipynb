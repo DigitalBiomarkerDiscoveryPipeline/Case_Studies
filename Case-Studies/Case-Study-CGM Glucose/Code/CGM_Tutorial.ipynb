{
 "cells": [
  {
   "cell_type": "markdown",
   "metadata": {},
   "source": [
    "# Beginner DBDP Tutorial: Working with Continuous Glucose Monitoring (CGM) Data\n",
    "\n",
    "This tutorial is available step-by-step HERE. \n",
    "\n",
    "In this case study, we will be using continuous glucose monitoring (CGM) data. We will be performing the first few steps of the Digital Biomarker Discvoery Pipeline: \n",
    "1. Pre-process the data\n",
    "2. Exploratory data analysis\n",
    "3. Feature Engineering (using the DBDP cgmquantify module)\n",
    "\n",
    "### Level\n",
    "Beginner. You have limited knowledge of Python/R. This tutorial is a step-by-step guide.\n",
    "\n",
    "### System Requirements\n",
    "* Python (3.0.0+) - If you don't yet have Python installed, please follow [this video tutorial](https://www.youtube.com/watch?v=YJC6ldI3hWk) on how to download Python through Anaconda\n",
    "\n",
    "For beginners, I recommend using either JupyterLab or Visual Studio Code to interface with your notebooks.\n",
    "\n",
    "### Objectives\n",
    "* Learn how to work with CGM data\n",
    "* Learn the first 3 steps of the digital biomarker discovery pipeline\n",
    "* Compute glucose variability metrics on data\n",
    "\n",
    "### Dataset\n",
    "We will be using a small example dataset from a single person's week long CGM data. This data has been de-identified and time shifted.\n",
    "\n",
    "### Recommended DBDP Resources\n",
    "This is a handy guide, but don't worry- everything you need is right here. If you want to know how to find those resources in the DBDP, they are available in the table below:\n",
    "\n",
    "| Resource | How to use it | Language |\n",
    "| ------ | ------ | ------ | \n",
    "| [Getting Started](https://github.com/DigitalBiomarkerDiscoveryPipeline/DBDP/wiki/USER-GUIDE) | User Guide for the DBDP | NA |\n",
    "| [Pre-processing CGM data](https://github.com/DigitalBiomarkerDiscoveryPipeline/cgmquantify) | Import CGM data | Python | \n",
    "| [Exploratory Data Analysis](https://github.com/DigitalBiomarkerDiscoveryPipeline/Exploratory-Data-Analysis) | Explore data, examine missingness, unsupervised learning | Python, R | \n",
    "| [Feature Engineering CGM data](https://github.com/DigitalBiomarkerDiscoveryPipeline/cgmquantify) | Engineer features of glucose variability from CGM data | Python |\n",
    "\n",
    "### Other Recommended Resources\n",
    "* [Paper on glucose variability](https://journals.sagepub.com/doi/full/10.1177/1932296819826111)\n",
    "\n",
    "### Questions\n",
    "If you have questions about this Case Study, please comment on the blog step-by-step tutorial! \n",
    "_____"
   ]
  },
  {
   "cell_type": "markdown",
   "metadata": {},
   "source": [
    "### Import libraries \n",
    "If you installed with Anaconda, some of these libaries should be built-in. \n",
    "\n",
    "You can check if you have them by running the next block of code.\n",
    "\n",
    "If you get an error, install them in your terminal window using \"pip install X\" where X is the package missing"
   ]
  },
  {
   "cell_type": "code",
   "execution_count": 1,
   "metadata": {},
   "outputs": [],
   "source": [
    "import numpy as np\n",
    "import pandas as pd \n",
    "import datetime as datetime\n",
    "import matplotlib.pyplot as plt"
   ]
  },
  {
   "cell_type": "markdown",
   "metadata": {},
   "source": [
    "### Pre-processing: Import and Clean CGM Data\n",
    "In python, functions are used by library.function. Below, we are using the pandas library (which we nicknamed \"pd\" when we imported it above). We want to use the read_csv function within the pandas library.\n",
    "\n",
    "If you added the data-set in your local folder (the one your code is in), you can proceed. You may need to change the filename to be your entire folder path and filename if you have the dataset elsewhere.\n",
    "\n",
    "We are importing the data as a special type of data structure, the dataframe. Learn more about data structures and, in particular, dataframes [here](https://pandas.pydata.org/pandas-docs/stable/user_guide/dsintro.html)."
   ]
  },
  {
   "cell_type": "code",
   "execution_count": 2,
   "metadata": {},
   "outputs": [],
   "source": [
    "data = pd.read_csv('test_file.csv') "
   ]
  },
  {
   "cell_type": "markdown",
   "metadata": {},
   "source": [
    "Let's take a peak at the data..."
   ]
  },
  {
   "cell_type": "code",
   "execution_count": 3,
   "metadata": {},
   "outputs": [
    {
     "data": {
      "text/html": [
       "<div>\n",
       "<style scoped>\n",
       "    .dataframe tbody tr th:only-of-type {\n",
       "        vertical-align: middle;\n",
       "    }\n",
       "\n",
       "    .dataframe tbody tr th {\n",
       "        vertical-align: top;\n",
       "    }\n",
       "\n",
       "    .dataframe thead th {\n",
       "        text-align: right;\n",
       "    }\n",
       "</style>\n",
       "<table border=\"1\" class=\"dataframe\">\n",
       "  <thead>\n",
       "    <tr style=\"text-align: right;\">\n",
       "      <th></th>\n",
       "      <th>Index</th>\n",
       "      <th>Timestamp (YYYY-MM-DDThh:mm:ss)</th>\n",
       "      <th>Event Type</th>\n",
       "      <th>Event Subtype</th>\n",
       "      <th>Patient Info</th>\n",
       "      <th>Device Info</th>\n",
       "      <th>Source Device ID</th>\n",
       "      <th>Glucose Value (mg/dL)</th>\n",
       "      <th>Insulin Value (u)</th>\n",
       "      <th>Carb Value (grams)</th>\n",
       "      <th>Duration (hh:mm:ss)</th>\n",
       "      <th>Glucose Rate of Change (mg/dL/min)</th>\n",
       "    </tr>\n",
       "  </thead>\n",
       "  <tbody>\n",
       "    <tr>\n",
       "      <th>0</th>\n",
       "      <td>1</td>\n",
       "      <td>NaN</td>\n",
       "      <td>FirstName</td>\n",
       "      <td>NaN</td>\n",
       "      <td>Joe</td>\n",
       "      <td>NaN</td>\n",
       "      <td>NaN</td>\n",
       "      <td>NaN</td>\n",
       "      <td>NaN</td>\n",
       "      <td>NaN</td>\n",
       "      <td>NaN</td>\n",
       "      <td>NaN</td>\n",
       "    </tr>\n",
       "    <tr>\n",
       "      <th>1</th>\n",
       "      <td>2</td>\n",
       "      <td>NaN</td>\n",
       "      <td>LastName</td>\n",
       "      <td>NaN</td>\n",
       "      <td>Schmoe</td>\n",
       "      <td>NaN</td>\n",
       "      <td>NaN</td>\n",
       "      <td>NaN</td>\n",
       "      <td>NaN</td>\n",
       "      <td>NaN</td>\n",
       "      <td>NaN</td>\n",
       "      <td>NaN</td>\n",
       "    </tr>\n",
       "    <tr>\n",
       "      <th>2</th>\n",
       "      <td>3</td>\n",
       "      <td>NaN</td>\n",
       "      <td>DateOfBirth</td>\n",
       "      <td>NaN</td>\n",
       "      <td>1/1/1970</td>\n",
       "      <td>NaN</td>\n",
       "      <td>NaN</td>\n",
       "      <td>NaN</td>\n",
       "      <td>NaN</td>\n",
       "      <td>NaN</td>\n",
       "      <td>NaN</td>\n",
       "      <td>NaN</td>\n",
       "    </tr>\n",
       "    <tr>\n",
       "      <th>3</th>\n",
       "      <td>4</td>\n",
       "      <td>NaN</td>\n",
       "      <td>Device</td>\n",
       "      <td>NaN</td>\n",
       "      <td>NaN</td>\n",
       "      <td>Dexcom G6 Mobile App</td>\n",
       "      <td>iPhone G6</td>\n",
       "      <td>NaN</td>\n",
       "      <td>NaN</td>\n",
       "      <td>NaN</td>\n",
       "      <td>NaN</td>\n",
       "      <td>NaN</td>\n",
       "    </tr>\n",
       "    <tr>\n",
       "      <th>4</th>\n",
       "      <td>5</td>\n",
       "      <td>NaN</td>\n",
       "      <td>Alert</td>\n",
       "      <td>Fall</td>\n",
       "      <td>NaN</td>\n",
       "      <td>NaN</td>\n",
       "      <td>iPhone G6</td>\n",
       "      <td>NaN</td>\n",
       "      <td>NaN</td>\n",
       "      <td>NaN</td>\n",
       "      <td>NaN</td>\n",
       "      <td>3.0</td>\n",
       "    </tr>\n",
       "    <tr>\n",
       "      <th>...</th>\n",
       "      <td>...</td>\n",
       "      <td>...</td>\n",
       "      <td>...</td>\n",
       "      <td>...</td>\n",
       "      <td>...</td>\n",
       "      <td>...</td>\n",
       "      <td>...</td>\n",
       "      <td>...</td>\n",
       "      <td>...</td>\n",
       "      <td>...</td>\n",
       "      <td>...</td>\n",
       "      <td>...</td>\n",
       "    </tr>\n",
       "    <tr>\n",
       "      <th>2154</th>\n",
       "      <td>2155</td>\n",
       "      <td>2016-11-01T08:59:03</td>\n",
       "      <td>EGV</td>\n",
       "      <td>NaN</td>\n",
       "      <td>NaN</td>\n",
       "      <td>NaN</td>\n",
       "      <td>iPhone G6</td>\n",
       "      <td>145.0</td>\n",
       "      <td>NaN</td>\n",
       "      <td>NaN</td>\n",
       "      <td>NaN</td>\n",
       "      <td>NaN</td>\n",
       "    </tr>\n",
       "    <tr>\n",
       "      <th>2155</th>\n",
       "      <td>2156</td>\n",
       "      <td>2016-11-01T09:04:02</td>\n",
       "      <td>EGV</td>\n",
       "      <td>NaN</td>\n",
       "      <td>NaN</td>\n",
       "      <td>NaN</td>\n",
       "      <td>iPhone G6</td>\n",
       "      <td>139.0</td>\n",
       "      <td>NaN</td>\n",
       "      <td>NaN</td>\n",
       "      <td>NaN</td>\n",
       "      <td>NaN</td>\n",
       "    </tr>\n",
       "    <tr>\n",
       "      <th>2156</th>\n",
       "      <td>2157</td>\n",
       "      <td>2016-11-01T09:09:03</td>\n",
       "      <td>EGV</td>\n",
       "      <td>NaN</td>\n",
       "      <td>NaN</td>\n",
       "      <td>NaN</td>\n",
       "      <td>iPhone G6</td>\n",
       "      <td>136.0</td>\n",
       "      <td>NaN</td>\n",
       "      <td>NaN</td>\n",
       "      <td>NaN</td>\n",
       "      <td>NaN</td>\n",
       "    </tr>\n",
       "    <tr>\n",
       "      <th>2157</th>\n",
       "      <td>2158</td>\n",
       "      <td>2016-11-01T09:14:02</td>\n",
       "      <td>EGV</td>\n",
       "      <td>NaN</td>\n",
       "      <td>NaN</td>\n",
       "      <td>NaN</td>\n",
       "      <td>iPhone G6</td>\n",
       "      <td>126.0</td>\n",
       "      <td>NaN</td>\n",
       "      <td>NaN</td>\n",
       "      <td>NaN</td>\n",
       "      <td>NaN</td>\n",
       "    </tr>\n",
       "    <tr>\n",
       "      <th>2158</th>\n",
       "      <td>2159</td>\n",
       "      <td>2016-11-01T09:19:02</td>\n",
       "      <td>EGV</td>\n",
       "      <td>NaN</td>\n",
       "      <td>NaN</td>\n",
       "      <td>NaN</td>\n",
       "      <td>iPhone G6</td>\n",
       "      <td>108.0</td>\n",
       "      <td>NaN</td>\n",
       "      <td>NaN</td>\n",
       "      <td>NaN</td>\n",
       "      <td>NaN</td>\n",
       "    </tr>\n",
       "  </tbody>\n",
       "</table>\n",
       "<p>2159 rows × 12 columns</p>\n",
       "</div>"
      ],
      "text/plain": [
       "      Index Timestamp (YYYY-MM-DDThh:mm:ss)   Event Type Event Subtype  \\\n",
       "0         1                             NaN    FirstName           NaN   \n",
       "1         2                             NaN     LastName           NaN   \n",
       "2         3                             NaN  DateOfBirth           NaN   \n",
       "3         4                             NaN       Device           NaN   \n",
       "4         5                             NaN        Alert          Fall   \n",
       "...     ...                             ...          ...           ...   \n",
       "2154   2155             2016-11-01T08:59:03          EGV           NaN   \n",
       "2155   2156             2016-11-01T09:04:02          EGV           NaN   \n",
       "2156   2157             2016-11-01T09:09:03          EGV           NaN   \n",
       "2157   2158             2016-11-01T09:14:02          EGV           NaN   \n",
       "2158   2159             2016-11-01T09:19:02          EGV           NaN   \n",
       "\n",
       "     Patient Info           Device Info Source Device ID  \\\n",
       "0             Joe                   NaN              NaN   \n",
       "1          Schmoe                   NaN              NaN   \n",
       "2        1/1/1970                   NaN              NaN   \n",
       "3             NaN  Dexcom G6 Mobile App        iPhone G6   \n",
       "4             NaN                   NaN        iPhone G6   \n",
       "...           ...                   ...              ...   \n",
       "2154          NaN                   NaN        iPhone G6   \n",
       "2155          NaN                   NaN        iPhone G6   \n",
       "2156          NaN                   NaN        iPhone G6   \n",
       "2157          NaN                   NaN        iPhone G6   \n",
       "2158          NaN                   NaN        iPhone G6   \n",
       "\n",
       "      Glucose Value (mg/dL)  Insulin Value (u)  Carb Value (grams)  \\\n",
       "0                       NaN                NaN                 NaN   \n",
       "1                       NaN                NaN                 NaN   \n",
       "2                       NaN                NaN                 NaN   \n",
       "3                       NaN                NaN                 NaN   \n",
       "4                       NaN                NaN                 NaN   \n",
       "...                     ...                ...                 ...   \n",
       "2154                  145.0                NaN                 NaN   \n",
       "2155                  139.0                NaN                 NaN   \n",
       "2156                  136.0                NaN                 NaN   \n",
       "2157                  126.0                NaN                 NaN   \n",
       "2158                  108.0                NaN                 NaN   \n",
       "\n",
       "     Duration (hh:mm:ss)  Glucose Rate of Change (mg/dL/min)  \n",
       "0                    NaN                                 NaN  \n",
       "1                    NaN                                 NaN  \n",
       "2                    NaN                                 NaN  \n",
       "3                    NaN                                 NaN  \n",
       "4                    NaN                                 3.0  \n",
       "...                  ...                                 ...  \n",
       "2154                 NaN                                 NaN  \n",
       "2155                 NaN                                 NaN  \n",
       "2156                 NaN                                 NaN  \n",
       "2157                 NaN                                 NaN  \n",
       "2158                 NaN                                 NaN  \n",
       "\n",
       "[2159 rows x 12 columns]"
      ]
     },
     "execution_count": 3,
     "metadata": {},
     "output_type": "execute_result"
    }
   ],
   "source": [
    "data"
   ]
  },
  {
   "cell_type": "code",
   "execution_count": 4,
   "metadata": {},
   "outputs": [
    {
     "data": {
      "text/html": [
       "<div>\n",
       "<style scoped>\n",
       "    .dataframe tbody tr th:only-of-type {\n",
       "        vertical-align: middle;\n",
       "    }\n",
       "\n",
       "    .dataframe tbody tr th {\n",
       "        vertical-align: top;\n",
       "    }\n",
       "\n",
       "    .dataframe thead th {\n",
       "        text-align: right;\n",
       "    }\n",
       "</style>\n",
       "<table border=\"1\" class=\"dataframe\">\n",
       "  <thead>\n",
       "    <tr style=\"text-align: right;\">\n",
       "      <th></th>\n",
       "      <th>Index</th>\n",
       "      <th>Timestamp (YYYY-MM-DDThh:mm:ss)</th>\n",
       "      <th>Event Type</th>\n",
       "      <th>Event Subtype</th>\n",
       "      <th>Patient Info</th>\n",
       "      <th>Device Info</th>\n",
       "      <th>Source Device ID</th>\n",
       "      <th>Glucose Value (mg/dL)</th>\n",
       "      <th>Insulin Value (u)</th>\n",
       "      <th>Carb Value (grams)</th>\n",
       "      <th>Duration (hh:mm:ss)</th>\n",
       "      <th>Glucose Rate of Change (mg/dL/min)</th>\n",
       "    </tr>\n",
       "  </thead>\n",
       "  <tbody>\n",
       "    <tr>\n",
       "      <th>0</th>\n",
       "      <td>1</td>\n",
       "      <td>NaN</td>\n",
       "      <td>FirstName</td>\n",
       "      <td>NaN</td>\n",
       "      <td>Joe</td>\n",
       "      <td>NaN</td>\n",
       "      <td>NaN</td>\n",
       "      <td>NaN</td>\n",
       "      <td>NaN</td>\n",
       "      <td>NaN</td>\n",
       "      <td>NaN</td>\n",
       "      <td>NaN</td>\n",
       "    </tr>\n",
       "    <tr>\n",
       "      <th>1</th>\n",
       "      <td>2</td>\n",
       "      <td>NaN</td>\n",
       "      <td>LastName</td>\n",
       "      <td>NaN</td>\n",
       "      <td>Schmoe</td>\n",
       "      <td>NaN</td>\n",
       "      <td>NaN</td>\n",
       "      <td>NaN</td>\n",
       "      <td>NaN</td>\n",
       "      <td>NaN</td>\n",
       "      <td>NaN</td>\n",
       "      <td>NaN</td>\n",
       "    </tr>\n",
       "    <tr>\n",
       "      <th>2</th>\n",
       "      <td>3</td>\n",
       "      <td>NaN</td>\n",
       "      <td>DateOfBirth</td>\n",
       "      <td>NaN</td>\n",
       "      <td>1/1/1970</td>\n",
       "      <td>NaN</td>\n",
       "      <td>NaN</td>\n",
       "      <td>NaN</td>\n",
       "      <td>NaN</td>\n",
       "      <td>NaN</td>\n",
       "      <td>NaN</td>\n",
       "      <td>NaN</td>\n",
       "    </tr>\n",
       "    <tr>\n",
       "      <th>3</th>\n",
       "      <td>4</td>\n",
       "      <td>NaN</td>\n",
       "      <td>Device</td>\n",
       "      <td>NaN</td>\n",
       "      <td>NaN</td>\n",
       "      <td>Dexcom G6 Mobile App</td>\n",
       "      <td>iPhone G6</td>\n",
       "      <td>NaN</td>\n",
       "      <td>NaN</td>\n",
       "      <td>NaN</td>\n",
       "      <td>NaN</td>\n",
       "      <td>NaN</td>\n",
       "    </tr>\n",
       "    <tr>\n",
       "      <th>4</th>\n",
       "      <td>5</td>\n",
       "      <td>NaN</td>\n",
       "      <td>Alert</td>\n",
       "      <td>Fall</td>\n",
       "      <td>NaN</td>\n",
       "      <td>NaN</td>\n",
       "      <td>iPhone G6</td>\n",
       "      <td>NaN</td>\n",
       "      <td>NaN</td>\n",
       "      <td>NaN</td>\n",
       "      <td>NaN</td>\n",
       "      <td>3.0</td>\n",
       "    </tr>\n",
       "    <tr>\n",
       "      <th>5</th>\n",
       "      <td>6</td>\n",
       "      <td>NaN</td>\n",
       "      <td>Alert</td>\n",
       "      <td>High</td>\n",
       "      <td>NaN</td>\n",
       "      <td>NaN</td>\n",
       "      <td>iPhone G6</td>\n",
       "      <td>200.0</td>\n",
       "      <td>NaN</td>\n",
       "      <td>NaN</td>\n",
       "      <td>NaN</td>\n",
       "      <td>NaN</td>\n",
       "    </tr>\n",
       "    <tr>\n",
       "      <th>6</th>\n",
       "      <td>7</td>\n",
       "      <td>NaN</td>\n",
       "      <td>Alert</td>\n",
       "      <td>Low</td>\n",
       "      <td>NaN</td>\n",
       "      <td>NaN</td>\n",
       "      <td>iPhone G6</td>\n",
       "      <td>80.0</td>\n",
       "      <td>NaN</td>\n",
       "      <td>NaN</td>\n",
       "      <td>NaN</td>\n",
       "      <td>NaN</td>\n",
       "    </tr>\n",
       "    <tr>\n",
       "      <th>7</th>\n",
       "      <td>8</td>\n",
       "      <td>NaN</td>\n",
       "      <td>Alert</td>\n",
       "      <td>Signal Loss</td>\n",
       "      <td>NaN</td>\n",
       "      <td>NaN</td>\n",
       "      <td>iPhone G6</td>\n",
       "      <td>NaN</td>\n",
       "      <td>NaN</td>\n",
       "      <td>NaN</td>\n",
       "      <td>0:20:00</td>\n",
       "      <td>NaN</td>\n",
       "    </tr>\n",
       "    <tr>\n",
       "      <th>8</th>\n",
       "      <td>9</td>\n",
       "      <td>NaN</td>\n",
       "      <td>Alert</td>\n",
       "      <td>Rise</td>\n",
       "      <td>NaN</td>\n",
       "      <td>NaN</td>\n",
       "      <td>iPhone G6</td>\n",
       "      <td>NaN</td>\n",
       "      <td>NaN</td>\n",
       "      <td>NaN</td>\n",
       "      <td>NaN</td>\n",
       "      <td>3.0</td>\n",
       "    </tr>\n",
       "    <tr>\n",
       "      <th>9</th>\n",
       "      <td>10</td>\n",
       "      <td>NaN</td>\n",
       "      <td>Alert</td>\n",
       "      <td>Urgent Low</td>\n",
       "      <td>NaN</td>\n",
       "      <td>NaN</td>\n",
       "      <td>iPhone G6</td>\n",
       "      <td>55.0</td>\n",
       "      <td>NaN</td>\n",
       "      <td>NaN</td>\n",
       "      <td>NaN</td>\n",
       "      <td>NaN</td>\n",
       "    </tr>\n",
       "    <tr>\n",
       "      <th>10</th>\n",
       "      <td>11</td>\n",
       "      <td>NaN</td>\n",
       "      <td>Alert</td>\n",
       "      <td>Urgent Low Soon</td>\n",
       "      <td>NaN</td>\n",
       "      <td>NaN</td>\n",
       "      <td>iPhone G6</td>\n",
       "      <td>55.0</td>\n",
       "      <td>NaN</td>\n",
       "      <td>NaN</td>\n",
       "      <td>NaN</td>\n",
       "      <td>NaN</td>\n",
       "    </tr>\n",
       "    <tr>\n",
       "      <th>11</th>\n",
       "      <td>12</td>\n",
       "      <td>2016-10-24T11:24:17</td>\n",
       "      <td>EGV</td>\n",
       "      <td>NaN</td>\n",
       "      <td>NaN</td>\n",
       "      <td>NaN</td>\n",
       "      <td>iPhone G6</td>\n",
       "      <td>103.0</td>\n",
       "      <td>NaN</td>\n",
       "      <td>NaN</td>\n",
       "      <td>NaN</td>\n",
       "      <td>NaN</td>\n",
       "    </tr>\n",
       "    <tr>\n",
       "      <th>12</th>\n",
       "      <td>13</td>\n",
       "      <td>2016-10-24T11:29:17</td>\n",
       "      <td>EGV</td>\n",
       "      <td>NaN</td>\n",
       "      <td>NaN</td>\n",
       "      <td>NaN</td>\n",
       "      <td>iPhone G6</td>\n",
       "      <td>102.0</td>\n",
       "      <td>NaN</td>\n",
       "      <td>NaN</td>\n",
       "      <td>NaN</td>\n",
       "      <td>NaN</td>\n",
       "    </tr>\n",
       "    <tr>\n",
       "      <th>13</th>\n",
       "      <td>14</td>\n",
       "      <td>2016-10-24T11:34:17</td>\n",
       "      <td>EGV</td>\n",
       "      <td>NaN</td>\n",
       "      <td>NaN</td>\n",
       "      <td>NaN</td>\n",
       "      <td>iPhone G6</td>\n",
       "      <td>100.0</td>\n",
       "      <td>NaN</td>\n",
       "      <td>NaN</td>\n",
       "      <td>NaN</td>\n",
       "      <td>NaN</td>\n",
       "    </tr>\n",
       "    <tr>\n",
       "      <th>14</th>\n",
       "      <td>15</td>\n",
       "      <td>2016-10-24T11:39:17</td>\n",
       "      <td>EGV</td>\n",
       "      <td>NaN</td>\n",
       "      <td>NaN</td>\n",
       "      <td>NaN</td>\n",
       "      <td>iPhone G6</td>\n",
       "      <td>98.0</td>\n",
       "      <td>NaN</td>\n",
       "      <td>NaN</td>\n",
       "      <td>NaN</td>\n",
       "      <td>NaN</td>\n",
       "    </tr>\n",
       "  </tbody>\n",
       "</table>\n",
       "</div>"
      ],
      "text/plain": [
       "    Index Timestamp (YYYY-MM-DDThh:mm:ss)   Event Type    Event Subtype  \\\n",
       "0       1                             NaN    FirstName              NaN   \n",
       "1       2                             NaN     LastName              NaN   \n",
       "2       3                             NaN  DateOfBirth              NaN   \n",
       "3       4                             NaN       Device              NaN   \n",
       "4       5                             NaN        Alert             Fall   \n",
       "5       6                             NaN        Alert             High   \n",
       "6       7                             NaN        Alert              Low   \n",
       "7       8                             NaN        Alert      Signal Loss   \n",
       "8       9                             NaN        Alert             Rise   \n",
       "9      10                             NaN        Alert       Urgent Low   \n",
       "10     11                             NaN        Alert  Urgent Low Soon   \n",
       "11     12             2016-10-24T11:24:17          EGV              NaN   \n",
       "12     13             2016-10-24T11:29:17          EGV              NaN   \n",
       "13     14             2016-10-24T11:34:17          EGV              NaN   \n",
       "14     15             2016-10-24T11:39:17          EGV              NaN   \n",
       "\n",
       "   Patient Info           Device Info Source Device ID  Glucose Value (mg/dL)  \\\n",
       "0           Joe                   NaN              NaN                    NaN   \n",
       "1        Schmoe                   NaN              NaN                    NaN   \n",
       "2      1/1/1970                   NaN              NaN                    NaN   \n",
       "3           NaN  Dexcom G6 Mobile App        iPhone G6                    NaN   \n",
       "4           NaN                   NaN        iPhone G6                    NaN   \n",
       "5           NaN                   NaN        iPhone G6                  200.0   \n",
       "6           NaN                   NaN        iPhone G6                   80.0   \n",
       "7           NaN                   NaN        iPhone G6                    NaN   \n",
       "8           NaN                   NaN        iPhone G6                    NaN   \n",
       "9           NaN                   NaN        iPhone G6                   55.0   \n",
       "10          NaN                   NaN        iPhone G6                   55.0   \n",
       "11          NaN                   NaN        iPhone G6                  103.0   \n",
       "12          NaN                   NaN        iPhone G6                  102.0   \n",
       "13          NaN                   NaN        iPhone G6                  100.0   \n",
       "14          NaN                   NaN        iPhone G6                   98.0   \n",
       "\n",
       "    Insulin Value (u)  Carb Value (grams) Duration (hh:mm:ss)  \\\n",
       "0                 NaN                 NaN                 NaN   \n",
       "1                 NaN                 NaN                 NaN   \n",
       "2                 NaN                 NaN                 NaN   \n",
       "3                 NaN                 NaN                 NaN   \n",
       "4                 NaN                 NaN                 NaN   \n",
       "5                 NaN                 NaN                 NaN   \n",
       "6                 NaN                 NaN                 NaN   \n",
       "7                 NaN                 NaN             0:20:00   \n",
       "8                 NaN                 NaN                 NaN   \n",
       "9                 NaN                 NaN                 NaN   \n",
       "10                NaN                 NaN                 NaN   \n",
       "11                NaN                 NaN                 NaN   \n",
       "12                NaN                 NaN                 NaN   \n",
       "13                NaN                 NaN                 NaN   \n",
       "14                NaN                 NaN                 NaN   \n",
       "\n",
       "    Glucose Rate of Change (mg/dL/min)  \n",
       "0                                  NaN  \n",
       "1                                  NaN  \n",
       "2                                  NaN  \n",
       "3                                  NaN  \n",
       "4                                  3.0  \n",
       "5                                  NaN  \n",
       "6                                  NaN  \n",
       "7                                  NaN  \n",
       "8                                  3.0  \n",
       "9                                  NaN  \n",
       "10                                 NaN  \n",
       "11                                 NaN  \n",
       "12                                 NaN  \n",
       "13                                 NaN  \n",
       "14                                 NaN  "
      ]
     },
     "execution_count": 4,
     "metadata": {},
     "output_type": "execute_result"
    }
   ],
   "source": [
    "data[0:15]"
   ]
  },
  {
   "cell_type": "markdown",
   "metadata": {},
   "source": [
    "Okay, the data is pretty messy. For today's purposes, we only care about the Timestamp and Glucose columns. We want to drop everything else from the dataset."
   ]
  },
  {
   "cell_type": "code",
   "execution_count": 15,
   "metadata": {},
   "outputs": [],
   "source": [
    "# Instantiate a new dataframe. We will call this one \"df\"\n",
    "df = pd.DataFrame() # This creates an empty data frame\n",
    "\n",
    "# Pull timestamp and glucose columns into the new, empty dataframe. We will change their names to \"DateTime\" and \"Glucose\" \n",
    "df['DateTime'] = data['Timestamp (YYYY-MM-DDThh:mm:ss)']\n",
    "# For glucose, we also want to change the data to a number. Right now, Python thinks the glucose column values are strings (you can think of a string as text). We will wrap the function in pd.to_numeric() to convert the column to numbers.\n",
    "df['Glucose'] = pd.to_numeric(data['Glucose Value (mg/dL)'])\n",
    "\n",
    "# The first 12 rows don't even have matching glucose + time values, so let's drop those\n",
    "df.drop(df.index[:12], inplace=True)"
   ]
  },
  {
   "cell_type": "markdown",
   "metadata": {},
   "source": [
    "Great! We now have a clean dataframe to work with. Check it out below!"
   ]
  },
  {
   "cell_type": "code",
   "execution_count": 16,
   "metadata": {},
   "outputs": [
    {
     "data": {
      "text/html": [
       "<div>\n",
       "<style scoped>\n",
       "    .dataframe tbody tr th:only-of-type {\n",
       "        vertical-align: middle;\n",
       "    }\n",
       "\n",
       "    .dataframe tbody tr th {\n",
       "        vertical-align: top;\n",
       "    }\n",
       "\n",
       "    .dataframe thead th {\n",
       "        text-align: right;\n",
       "    }\n",
       "</style>\n",
       "<table border=\"1\" class=\"dataframe\">\n",
       "  <thead>\n",
       "    <tr style=\"text-align: right;\">\n",
       "      <th></th>\n",
       "      <th>DateTime</th>\n",
       "      <th>Glucose</th>\n",
       "    </tr>\n",
       "  </thead>\n",
       "  <tbody>\n",
       "    <tr>\n",
       "      <th>12</th>\n",
       "      <td>2016-10-24T11:29:17</td>\n",
       "      <td>102.0</td>\n",
       "    </tr>\n",
       "    <tr>\n",
       "      <th>13</th>\n",
       "      <td>2016-10-24T11:34:17</td>\n",
       "      <td>100.0</td>\n",
       "    </tr>\n",
       "    <tr>\n",
       "      <th>14</th>\n",
       "      <td>2016-10-24T11:39:17</td>\n",
       "      <td>98.0</td>\n",
       "    </tr>\n",
       "    <tr>\n",
       "      <th>15</th>\n",
       "      <td>2016-10-24T11:44:17</td>\n",
       "      <td>94.0</td>\n",
       "    </tr>\n",
       "    <tr>\n",
       "      <th>16</th>\n",
       "      <td>2016-10-24T11:49:18</td>\n",
       "      <td>95.0</td>\n",
       "    </tr>\n",
       "    <tr>\n",
       "      <th>...</th>\n",
       "      <td>...</td>\n",
       "      <td>...</td>\n",
       "    </tr>\n",
       "    <tr>\n",
       "      <th>2154</th>\n",
       "      <td>2016-11-01T08:59:03</td>\n",
       "      <td>145.0</td>\n",
       "    </tr>\n",
       "    <tr>\n",
       "      <th>2155</th>\n",
       "      <td>2016-11-01T09:04:02</td>\n",
       "      <td>139.0</td>\n",
       "    </tr>\n",
       "    <tr>\n",
       "      <th>2156</th>\n",
       "      <td>2016-11-01T09:09:03</td>\n",
       "      <td>136.0</td>\n",
       "    </tr>\n",
       "    <tr>\n",
       "      <th>2157</th>\n",
       "      <td>2016-11-01T09:14:02</td>\n",
       "      <td>126.0</td>\n",
       "    </tr>\n",
       "    <tr>\n",
       "      <th>2158</th>\n",
       "      <td>2016-11-01T09:19:02</td>\n",
       "      <td>108.0</td>\n",
       "    </tr>\n",
       "  </tbody>\n",
       "</table>\n",
       "<p>2147 rows × 2 columns</p>\n",
       "</div>"
      ],
      "text/plain": [
       "                 DateTime  Glucose\n",
       "12    2016-10-24T11:29:17    102.0\n",
       "13    2016-10-24T11:34:17    100.0\n",
       "14    2016-10-24T11:39:17     98.0\n",
       "15    2016-10-24T11:44:17     94.0\n",
       "16    2016-10-24T11:49:18     95.0\n",
       "...                   ...      ...\n",
       "2154  2016-11-01T08:59:03    145.0\n",
       "2155  2016-11-01T09:04:02    139.0\n",
       "2156  2016-11-01T09:09:03    136.0\n",
       "2157  2016-11-01T09:14:02    126.0\n",
       "2158  2016-11-01T09:19:02    108.0\n",
       "\n",
       "[2147 rows x 2 columns]"
      ]
     },
     "execution_count": 16,
     "metadata": {},
     "output_type": "execute_result"
    }
   ],
   "source": [
    "df"
   ]
  },
  {
   "cell_type": "markdown",
   "metadata": {},
   "source": [
    "Now, let's deal with the DateTime. Remember how we had to change the glucose column to be numbers instead of strings? \n",
    "\n",
    "Well, we have to tell Python that the \"DateTime\" column is a datetime data type. "
   ]
  },
  {
   "cell_type": "code",
   "execution_count": 17,
   "metadata": {},
   "outputs": [],
   "source": [
    "# We will use pd.to_datetime() to convert the Time column to a datetime object. We need to tell Python what the current format is. \n",
    "df['DateTime'] =  pd.to_datetime(df['DateTime'], format='%Y-%m-%dT%H:%M:%S')\n",
    "\n",
    "# I would also like to make a new column, \"Day\", with just the Day of the DateTime column.\n",
    "df['Day'] = df['DateTime'].dt.date"
   ]
  },
  {
   "cell_type": "code",
   "execution_count": 18,
   "metadata": {},
   "outputs": [
    {
     "data": {
      "text/html": [
       "<div>\n",
       "<style scoped>\n",
       "    .dataframe tbody tr th:only-of-type {\n",
       "        vertical-align: middle;\n",
       "    }\n",
       "\n",
       "    .dataframe tbody tr th {\n",
       "        vertical-align: top;\n",
       "    }\n",
       "\n",
       "    .dataframe thead th {\n",
       "        text-align: right;\n",
       "    }\n",
       "</style>\n",
       "<table border=\"1\" class=\"dataframe\">\n",
       "  <thead>\n",
       "    <tr style=\"text-align: right;\">\n",
       "      <th></th>\n",
       "      <th>DateTime</th>\n",
       "      <th>Glucose</th>\n",
       "      <th>Day</th>\n",
       "    </tr>\n",
       "  </thead>\n",
       "  <tbody>\n",
       "    <tr>\n",
       "      <th>12</th>\n",
       "      <td>2016-10-24 11:29:17</td>\n",
       "      <td>102.0</td>\n",
       "      <td>2016-10-24</td>\n",
       "    </tr>\n",
       "    <tr>\n",
       "      <th>13</th>\n",
       "      <td>2016-10-24 11:34:17</td>\n",
       "      <td>100.0</td>\n",
       "      <td>2016-10-24</td>\n",
       "    </tr>\n",
       "    <tr>\n",
       "      <th>14</th>\n",
       "      <td>2016-10-24 11:39:17</td>\n",
       "      <td>98.0</td>\n",
       "      <td>2016-10-24</td>\n",
       "    </tr>\n",
       "    <tr>\n",
       "      <th>15</th>\n",
       "      <td>2016-10-24 11:44:17</td>\n",
       "      <td>94.0</td>\n",
       "      <td>2016-10-24</td>\n",
       "    </tr>\n",
       "    <tr>\n",
       "      <th>16</th>\n",
       "      <td>2016-10-24 11:49:18</td>\n",
       "      <td>95.0</td>\n",
       "      <td>2016-10-24</td>\n",
       "    </tr>\n",
       "    <tr>\n",
       "      <th>...</th>\n",
       "      <td>...</td>\n",
       "      <td>...</td>\n",
       "      <td>...</td>\n",
       "    </tr>\n",
       "    <tr>\n",
       "      <th>2154</th>\n",
       "      <td>2016-11-01 08:59:03</td>\n",
       "      <td>145.0</td>\n",
       "      <td>2016-11-01</td>\n",
       "    </tr>\n",
       "    <tr>\n",
       "      <th>2155</th>\n",
       "      <td>2016-11-01 09:04:02</td>\n",
       "      <td>139.0</td>\n",
       "      <td>2016-11-01</td>\n",
       "    </tr>\n",
       "    <tr>\n",
       "      <th>2156</th>\n",
       "      <td>2016-11-01 09:09:03</td>\n",
       "      <td>136.0</td>\n",
       "      <td>2016-11-01</td>\n",
       "    </tr>\n",
       "    <tr>\n",
       "      <th>2157</th>\n",
       "      <td>2016-11-01 09:14:02</td>\n",
       "      <td>126.0</td>\n",
       "      <td>2016-11-01</td>\n",
       "    </tr>\n",
       "    <tr>\n",
       "      <th>2158</th>\n",
       "      <td>2016-11-01 09:19:02</td>\n",
       "      <td>108.0</td>\n",
       "      <td>2016-11-01</td>\n",
       "    </tr>\n",
       "  </tbody>\n",
       "</table>\n",
       "<p>2147 rows × 3 columns</p>\n",
       "</div>"
      ],
      "text/plain": [
       "                DateTime  Glucose         Day\n",
       "12   2016-10-24 11:29:17    102.0  2016-10-24\n",
       "13   2016-10-24 11:34:17    100.0  2016-10-24\n",
       "14   2016-10-24 11:39:17     98.0  2016-10-24\n",
       "15   2016-10-24 11:44:17     94.0  2016-10-24\n",
       "16   2016-10-24 11:49:18     95.0  2016-10-24\n",
       "...                  ...      ...         ...\n",
       "2154 2016-11-01 08:59:03    145.0  2016-11-01\n",
       "2155 2016-11-01 09:04:02    139.0  2016-11-01\n",
       "2156 2016-11-01 09:09:03    136.0  2016-11-01\n",
       "2157 2016-11-01 09:14:02    126.0  2016-11-01\n",
       "2158 2016-11-01 09:19:02    108.0  2016-11-01\n",
       "\n",
       "[2147 rows x 3 columns]"
      ]
     },
     "execution_count": 18,
     "metadata": {},
     "output_type": "execute_result"
    }
   ],
   "source": [
    "df"
   ]
  },
  {
   "cell_type": "markdown",
   "metadata": {},
   "source": [
    "Did you notice that your index (the bold numbers on the left side of the dataframe) starts at 12? That is because we removed the first 12 rows from the dataframe. Let's re-index the dataframe so the index will start at 0."
   ]
  },
  {
   "cell_type": "code",
   "execution_count": 19,
   "metadata": {},
   "outputs": [],
   "source": [
    "df = df.reset_index(drop=True)"
   ]
  },
  {
   "cell_type": "code",
   "execution_count": 20,
   "metadata": {},
   "outputs": [
    {
     "data": {
      "text/html": [
       "<div>\n",
       "<style scoped>\n",
       "    .dataframe tbody tr th:only-of-type {\n",
       "        vertical-align: middle;\n",
       "    }\n",
       "\n",
       "    .dataframe tbody tr th {\n",
       "        vertical-align: top;\n",
       "    }\n",
       "\n",
       "    .dataframe thead th {\n",
       "        text-align: right;\n",
       "    }\n",
       "</style>\n",
       "<table border=\"1\" class=\"dataframe\">\n",
       "  <thead>\n",
       "    <tr style=\"text-align: right;\">\n",
       "      <th></th>\n",
       "      <th>DateTime</th>\n",
       "      <th>Glucose</th>\n",
       "      <th>Day</th>\n",
       "    </tr>\n",
       "  </thead>\n",
       "  <tbody>\n",
       "    <tr>\n",
       "      <th>0</th>\n",
       "      <td>2016-10-24 11:29:17</td>\n",
       "      <td>102.0</td>\n",
       "      <td>2016-10-24</td>\n",
       "    </tr>\n",
       "    <tr>\n",
       "      <th>1</th>\n",
       "      <td>2016-10-24 11:34:17</td>\n",
       "      <td>100.0</td>\n",
       "      <td>2016-10-24</td>\n",
       "    </tr>\n",
       "    <tr>\n",
       "      <th>2</th>\n",
       "      <td>2016-10-24 11:39:17</td>\n",
       "      <td>98.0</td>\n",
       "      <td>2016-10-24</td>\n",
       "    </tr>\n",
       "    <tr>\n",
       "      <th>3</th>\n",
       "      <td>2016-10-24 11:44:17</td>\n",
       "      <td>94.0</td>\n",
       "      <td>2016-10-24</td>\n",
       "    </tr>\n",
       "    <tr>\n",
       "      <th>4</th>\n",
       "      <td>2016-10-24 11:49:18</td>\n",
       "      <td>95.0</td>\n",
       "      <td>2016-10-24</td>\n",
       "    </tr>\n",
       "    <tr>\n",
       "      <th>...</th>\n",
       "      <td>...</td>\n",
       "      <td>...</td>\n",
       "      <td>...</td>\n",
       "    </tr>\n",
       "    <tr>\n",
       "      <th>2142</th>\n",
       "      <td>2016-11-01 08:59:03</td>\n",
       "      <td>145.0</td>\n",
       "      <td>2016-11-01</td>\n",
       "    </tr>\n",
       "    <tr>\n",
       "      <th>2143</th>\n",
       "      <td>2016-11-01 09:04:02</td>\n",
       "      <td>139.0</td>\n",
       "      <td>2016-11-01</td>\n",
       "    </tr>\n",
       "    <tr>\n",
       "      <th>2144</th>\n",
       "      <td>2016-11-01 09:09:03</td>\n",
       "      <td>136.0</td>\n",
       "      <td>2016-11-01</td>\n",
       "    </tr>\n",
       "    <tr>\n",
       "      <th>2145</th>\n",
       "      <td>2016-11-01 09:14:02</td>\n",
       "      <td>126.0</td>\n",
       "      <td>2016-11-01</td>\n",
       "    </tr>\n",
       "    <tr>\n",
       "      <th>2146</th>\n",
       "      <td>2016-11-01 09:19:02</td>\n",
       "      <td>108.0</td>\n",
       "      <td>2016-11-01</td>\n",
       "    </tr>\n",
       "  </tbody>\n",
       "</table>\n",
       "<p>2147 rows × 3 columns</p>\n",
       "</div>"
      ],
      "text/plain": [
       "                DateTime  Glucose         Day\n",
       "0    2016-10-24 11:29:17    102.0  2016-10-24\n",
       "1    2016-10-24 11:34:17    100.0  2016-10-24\n",
       "2    2016-10-24 11:39:17     98.0  2016-10-24\n",
       "3    2016-10-24 11:44:17     94.0  2016-10-24\n",
       "4    2016-10-24 11:49:18     95.0  2016-10-24\n",
       "...                  ...      ...         ...\n",
       "2142 2016-11-01 08:59:03    145.0  2016-11-01\n",
       "2143 2016-11-01 09:04:02    139.0  2016-11-01\n",
       "2144 2016-11-01 09:09:03    136.0  2016-11-01\n",
       "2145 2016-11-01 09:14:02    126.0  2016-11-01\n",
       "2146 2016-11-01 09:19:02    108.0  2016-11-01\n",
       "\n",
       "[2147 rows x 3 columns]"
      ]
     },
     "execution_count": 20,
     "metadata": {},
     "output_type": "execute_result"
    }
   ],
   "source": [
    "df"
   ]
  },
  {
   "cell_type": "markdown",
   "metadata": {},
   "source": [
    "_____\n",
    "### Exploratory Data Analysis\n",
    "We will explore just a few components of Exploratory Data Analysis with CGM data. I recommend exploring your data thoroughly using a great resource on Exploratory Data Analysis on the DBDP, available [here](https://github.com/DigitalBiomarkerDiscoveryPipeline/Exploratory-Data-Analysis/blob/master/ExploratoryDataAnalysis.ipynb)"
   ]
  },
  {
   "cell_type": "markdown",
   "metadata": {},
   "source": [
    "If we want to get a brief overview of our data, running the describe() function on our dataframe will give us a nice summary, including count, mean, standard deviation, median, minimum, and maximum."
   ]
  },
  {
   "cell_type": "code",
   "execution_count": 27,
   "metadata": {},
   "outputs": [
    {
     "data": {
      "text/html": [
       "<div>\n",
       "<style scoped>\n",
       "    .dataframe tbody tr th:only-of-type {\n",
       "        vertical-align: middle;\n",
       "    }\n",
       "\n",
       "    .dataframe tbody tr th {\n",
       "        vertical-align: top;\n",
       "    }\n",
       "\n",
       "    .dataframe thead th {\n",
       "        text-align: right;\n",
       "    }\n",
       "</style>\n",
       "<table border=\"1\" class=\"dataframe\">\n",
       "  <thead>\n",
       "    <tr style=\"text-align: right;\">\n",
       "      <th></th>\n",
       "      <th>Glucose</th>\n",
       "    </tr>\n",
       "  </thead>\n",
       "  <tbody>\n",
       "    <tr>\n",
       "      <th>count</th>\n",
       "      <td>2147.000000</td>\n",
       "    </tr>\n",
       "    <tr>\n",
       "      <th>mean</th>\n",
       "      <td>111.900792</td>\n",
       "    </tr>\n",
       "    <tr>\n",
       "      <th>std</th>\n",
       "      <td>28.805773</td>\n",
       "    </tr>\n",
       "    <tr>\n",
       "      <th>min</th>\n",
       "      <td>49.000000</td>\n",
       "    </tr>\n",
       "    <tr>\n",
       "      <th>25%</th>\n",
       "      <td>97.000000</td>\n",
       "    </tr>\n",
       "    <tr>\n",
       "      <th>50%</th>\n",
       "      <td>105.000000</td>\n",
       "    </tr>\n",
       "    <tr>\n",
       "      <th>75%</th>\n",
       "      <td>119.000000</td>\n",
       "    </tr>\n",
       "    <tr>\n",
       "      <th>max</th>\n",
       "      <td>261.000000</td>\n",
       "    </tr>\n",
       "  </tbody>\n",
       "</table>\n",
       "</div>"
      ],
      "text/plain": [
       "           Glucose\n",
       "count  2147.000000\n",
       "mean    111.900792\n",
       "std      28.805773\n",
       "min      49.000000\n",
       "25%      97.000000\n",
       "50%     105.000000\n",
       "75%     119.000000\n",
       "max     261.000000"
      ]
     },
     "execution_count": 27,
     "metadata": {},
     "output_type": "execute_result"
    }
   ],
   "source": [
    "df.describe()"
   ]
  },
  {
   "cell_type": "markdown",
   "metadata": {},
   "source": [
    "Let's start with a simple plot, so I can start to understand what is happening to my data over time. This will also enable me to see missing data. "
   ]
  },
  {
   "cell_type": "code",
   "execution_count": 24,
   "metadata": {},
   "outputs": [
    {
     "data": {
      "text/plain": [
       "[<matplotlib.lines.Line2D at 0x2bd7bf7cfd0>]"
      ]
     },
     "execution_count": 24,
     "metadata": {},
     "output_type": "execute_result"
    },
    {
     "data": {
      "image/png": "[encoded data removed]",
      "text/plain": [
       "<Figure size 1800x360 with 1 Axes>"
      ]
     },
     "metadata": {
      "needs_background": "light"
     },
     "output_type": "display_data"
    }
   ],
   "source": [
    "# Designate a figure size and font size\n",
    "plt.figure(figsize=(25,5))\n",
    "plt.rcParams.update({'font.size': 20})\n",
    "\n",
    "# Plot\n",
    "plt.plot(df['DateTime'], df['Glucose'], '.', color = '#1f77b4')"
   ]
  },
  {
   "cell_type": "markdown",
   "metadata": {},
   "source": [
    "It looks like we have a little bit of missing data, on 10-26 and on 10-31. We won't be covering missing data in this case study, but we will cover it in a later tutorial. \n",
    "\n",
    "Can't wait? [Here](https://machinelearningmastery.com/handle-missing-data-python/) is a great tutorial that shows you how to handle missing data. You will also find visualizations for assessing missing data in the DBDP [here](https://github.com/DigitalBiomarkerDiscoveryPipeline/Exploratory-Data-Analysis)."
   ]
  },
  {
   "cell_type": "markdown",
   "metadata": {},
   "source": [
    "Glucose excursions (very high and very low glucose values) are important for assessing glycemic health. Let's re-plot this, but including the mean and standard deviation of glucose on the plot."
   ]
  },
  {
   "cell_type": "code",
   "execution_count": 25,
   "metadata": {},
   "outputs": [
    {
     "data": {
      "text/plain": [
       "Text(0, 0.5, 'Glucose')"
      ]
     },
     "execution_count": 25,
     "metadata": {},
     "output_type": "execute_result"
    },
    {
     "data": {
      "image/png": "[encoded data removed]",
      "text/plain": [
       "<Figure size 1800x360 with 1 Axes>"
      ]
     },
     "metadata": {
      "needs_background": "light"
     },
     "output_type": "display_data"
    }
   ],
   "source": [
    "# Calculate the mean and standard deviation of glucose. We will draw 3 lines on the plot: The mean, 1 standard deviation above the mean, and 1 standard deviation below the mean.\n",
    "glucose_mean = np.mean(df['Glucose'])\n",
    "up = np.mean(df['Glucose']) + np.std(df['Glucose'])\n",
    "dw = np.mean(df['Glucose']) - np.std(df['Glucose'])\n",
    "\n",
    "# Same plot as above\n",
    "plt.figure(figsize=(25,5))\n",
    "plt.rcParams.update({'font.size': 20})\n",
    "plt.plot(df['DateTime'], df['Glucose'], '.', color = '#1f77b4')\n",
    "\n",
    "# Plot 3 horizontal lines\n",
    "plt.axhline(y=glucose_mean, color='red', linestyle='-')\n",
    "plt.axhline(y=up, color='pink', linestyle='-')\n",
    "plt.axhline(y=dw, color='pink', linestyle='-')\n",
    "\n",
    "# Add a label\n",
    "plt.ylabel('Glucose')"
   ]
  },
  {
   "cell_type": "markdown",
   "metadata": {},
   "source": [
    "Now, what if we wanted to see a smoothed graph that performed interpolation between points. We can use lowess smoothing to do this."
   ]
  },
  {
   "cell_type": "code",
   "execution_count": 28,
   "metadata": {},
   "outputs": [
    {
     "name": "stderr",
     "output_type": "stream",
     "text": [
      "C:\\Users\\Brinnae\\Anaconda3_1\\lib\\site-packages\\statsmodels\\tools\\_testing.py:19: FutureWarning: pandas.util.testing is deprecated. Use the functions in the public API at pandas.testing instead.\n",
      "  import pandas.util.testing as tm\n"
     ]
    }
   ],
   "source": [
    "# Import lowess from the statsmodels library\n",
    "from statsmodels.nonparametric.smoothers_lowess import lowess"
   ]
  },
  {
   "cell_type": "markdown",
   "metadata": {},
   "source": [
    "First, we will create a new data frame that is the smoothed version of our data:"
   ]
  },
  {
   "cell_type": "code",
   "execution_count": 37,
   "metadata": {},
   "outputs": [],
   "source": [
    "filteres = lowess(df['Glucose'], df['DateTime'], is_sorted=True, frac=0.015, it=0) #0.025\n",
    "filtered = pd.to_datetime(filteres[:,0], format='%Y-%m-%dT%H:%M:%S') "
   ]
  },
  {
   "cell_type": "markdown",
   "metadata": {},
   "source": [
    "Next, we will plot the smoothed data:"
   ]
  },
  {
   "cell_type": "code",
   "execution_count": 38,
   "metadata": {},
   "outputs": [
    {
     "data": {
      "text/plain": [
       "Text(0, 0.5, 'Glucose')"
      ]
     },
     "execution_count": 38,
     "metadata": {},
     "output_type": "execute_result"
    },
    {
     "data": {
      "image/png": "[encoded data removed]",
      "text/plain": [
       "<Figure size 1800x360 with 1 Axes>"
      ]
     },
     "metadata": {
      "needs_background": "light"
     },
     "output_type": "display_data"
    }
   ],
   "source": [
    "# Set sizes\n",
    "plt.figure(figsize=(25,5))\n",
    "plt.rcParams.update({'font.size': 20})\n",
    "\n",
    "# Same plot as before\n",
    "plt.plot(df['DateTime'], df['Glucose'], '.')\n",
    "\n",
    "# Plot smoothed data\n",
    "plt.plot(filtered, filteres[:,1], 'r')\n",
    "\n",
    "#Labels\n",
    "plt.ylabel('Glucose')"
   ]
  },
  {
   "cell_type": "markdown",
   "metadata": {},
   "source": [
    "For more or less smoothing, you can change the \"frac\" argument in the lowess function above. It is currently set at 0.015. Why not try 0.03 and see what happens?"
   ]
  },
  {
   "cell_type": "markdown",
   "metadata": {},
   "source": [
    "____________\n",
    "In order to determine the distribution of Glucose in the dataset, let's plot a histogram using the matplotlib hist function.\n",
    "\n",
    "For a list of all of the arguments to the matplotlib hist() function, check out the documentation [here](https://matplotlib.org/3.1.1/api/_as_gen/matplotlib.pyplot.hist.html)."
   ]
  },
  {
   "cell_type": "code",
   "execution_count": 41,
   "metadata": {},
   "outputs": [
    {
     "data": {
      "text/plain": [
       "Text(0, 0.5, 'Count')"
      ]
     },
     "execution_count": 41,
     "metadata": {},
     "output_type": "execute_result"
    },
    {
     "data": {
      "image/png": "[encoded data removed]",
      "text/plain": [
       "<Figure size 720x720 with 1 Axes>"
      ]
     },
     "metadata": {
      "needs_background": "light"
     },
     "output_type": "display_data"
    }
   ],
   "source": [
    "# Set sizes\n",
    "plt.figure(figsize=(10,10))\n",
    "plt.rcParams.update({'font.size': 20})\n",
    "\n",
    "# Plot histogram\n",
    "plt.hist(df['Glucose'])\n",
    "\n",
    "# Labels\n",
    "plt.xlabel('Glucose')\n",
    "plt.ylabel('Count')"
   ]
  },
  {
   "cell_type": "markdown",
   "metadata": {},
   "source": [
    "__________\n",
    "This is a *very* brief overview of Exploratory Data Analysis. I encourage you to continue exploring your data using the [tools available](https://github.com/DigitalBiomarkerDiscoveryPipeline/Exploratory-Data-Analysis/) in the DBDP!"
   ]
  },
  {
   "cell_type": "markdown",
   "metadata": {},
   "source": [
    "_____\n",
    "### Feature Engineering\n",
    "\n",
    "Feature engineering is the process by which we engineer features that we can then use as inputs in models to predict an outcome. \n",
    "\n",
    "The process of Feature Engineering can be data-driven or domain-driven. We will do a couple of each here:"
   ]
  },
  {
   "cell_type": "markdown",
   "metadata": {},
   "source": [
    "#### Data-driven Feature Engineering\n",
    "\n",
    "My go-to data-driven features include summary metrics. Let's compute those below:"
   ]
  },
  {
   "cell_type": "code",
   "execution_count": 44,
   "metadata": {},
   "outputs": [],
   "source": [
    "meanG = np.nanmean(df['Glucose'])\n",
    "medianG = np.nanmedian(df['Glucose'])\n",
    "minG = np.nanmin(df['Glucose'])\n",
    "maxG = np.nanmax(df['Glucose'])\n",
    "Q1G = np.nanpercentile(df['Glucose'], 25)\n",
    "Q3G = np.nanpercentile(df['Glucose'], 75)"
   ]
  },
  {
   "cell_type": "markdown",
   "metadata": {},
   "source": [
    "We can also compute metrics over each day:"
   ]
  },
  {
   "cell_type": "code",
   "execution_count": 47,
   "metadata": {},
   "outputs": [],
   "source": [
    "# Standard Deviation over all days\n",
    "interdaysd = np.std(df['Glucose'])\n",
    "\n",
    "# Standard Deviation for each day\n",
    "intradaysd =[]\n",
    "\n",
    "for i in pd.unique(df['Day']):\n",
    "    intradaysd.append(np.std(df[df['Day']==i]))\n",
    "    \n",
    "# We can find the average intraday standard deviation:\n",
    "intradaysd_mean = np.mean(intradaysd)"
   ]
  },
  {
   "cell_type": "markdown",
   "metadata": {},
   "source": [
    "If we examine both the interdaysd and the intradaysd_mean, we see that they are different!"
   ]
  },
  {
   "cell_type": "code",
   "execution_count": 50,
   "metadata": {},
   "outputs": [
    {
     "name": "stdout",
     "output_type": "stream",
     "text": [
      "24.389128553416437\n",
      "28.799063508925446\n"
     ]
    }
   ],
   "source": [
    "print(intradaysd_mean)\n",
    "print(interdaysd)"
   ]
  },
  {
   "cell_type": "markdown",
   "metadata": {},
   "source": [
    "#### Domain-driven Feature Engineering\n",
    "\n",
    "Domain-driven feature engineering usually takes the most time but is often the most effective, especially when handling physiology-based metrics. Domain-driven feature engineering involves a literature review and a better understanding of the underlying physiology. \n",
    "\n",
    "Two metrics that are well known in diabetes literature to be indicative of glycemic health are the [glucose management index (GMI)](https://care.diabetesjournals.org/content/early/2018/09/17/dc18-1581) and the [J-index](https://diabetes.diabetesjournals.org/content/62/5/1398). Let's compute these features."
   ]
  },
  {
   "cell_type": "code",
   "execution_count": 51,
   "metadata": {},
   "outputs": [],
   "source": [
    "J = 0.001*((np.mean(df['Glucose'])+np.std(df['Glucose']))**2)"
   ]
  },
  {
   "cell_type": "code",
   "execution_count": 52,
   "metadata": {},
   "outputs": [],
   "source": [
    "GMI = 3.31 + (0.02392*np.mean(df['Glucose']))"
   ]
  },
  {
   "cell_type": "markdown",
   "metadata": {},
   "source": [
    "____\n",
    "For 25+ features of glucose, I encourage you to check out the DBDP [cgmquanitfy module](https://github.com/DigitalBiomarkerDiscoveryPipeline/cgmquantify). The code is available [here](https://github.com/DigitalBiomarkerDiscoveryPipeline/cgmquantify/blob/master/cgmquantify/__init__.py).\n",
    "\n",
    "You can also install the cgmquantify package and have access to its functions. (Remember to pip install the package. For full instructions on how to install it, see [here](https://github.com/DigitalBiomarkerDiscoveryPipeline/cgmquantify/blob/master/README.md))"
   ]
  },
  {
   "cell_type": "code",
   "execution_count": 53,
   "metadata": {},
   "outputs": [],
   "source": [
    "import cgmquantify as cgm"
   ]
  },
  {
   "cell_type": "code",
   "execution_count": 54,
   "metadata": {},
   "outputs": [
    {
     "name": "stdout",
     "output_type": "stream",
     "text": [
      "interdaysd is: 28.799063508925446\n",
      "interdaycv is: 25.73624640632627\n",
      "intradaysd is: (46.6267582402342, 38.49949692558805, 26.519332340419986)\n",
      "intradaycv is: (21.444099179199764, 21.175300957094716, 8.137154426462626)\n",
      "TOR is: 1985\n",
      "TIR is: 8750\n",
      "POR is: 18.49091755938519\n",
      "MGE is: index      1159.284635\n",
      "Glucose     135.423174\n",
      "dtype: float64\n",
      "MGN is: index      1068.148000\n",
      "Glucose     106.564571\n",
      "dtype: float64\n",
      "MAGE is: 48.715\n",
      "MODD is: 27.667695370831257\n",
      "J_index is: 19.796449284660316\n",
      "LBGI is: 0.9095514600407604\n",
      "HBGI is: 0.9429935347767346\n",
      "ADRR is: 21.343472829647837\n",
      "CONGA24 is: 17.433750765189647\n",
      "GMI is: 5.986666939916162\n",
      "eA1c is: 5.526159993118995\n",
      "summary is: (111.90079180251514, 105.0, 49.0, 261.0, 97.0, 119.0)\n"
     ]
    }
   ],
   "source": [
    "data = cgm.importdexcom('test_file.csv')\n",
    "\n",
    "print('interdaysd is: ' + str(cgm.interdaysd(data)))\n",
    "print('interdaycv is: ' + str(cgm.interdaycv(data)))\n",
    "print('intradaysd is: ' + str(cgm.intradaysd(data)))\n",
    "print('intradaycv is: ' + str(cgm.intradaycv(data)))\n",
    "print('TOR is: ' + str(cgm.TOR(data)))\n",
    "print('TIR is: ' + str(cgm.TIR(data)))\n",
    "print('POR is: ' + str(cgm.POR(data)))\n",
    "print('MGE is: ' + str(cgm.MGE(data)))\n",
    "print('MGN is: ' + str(cgm.MGN(data)))\n",
    "print('MAGE is: ' + str(cgm.MAGE(data)))\n",
    "print('MODD is: ' + str(cgm.MODD(data)))\n",
    "print('J_index is: ' + str(cgm.J_index(data)))\n",
    "print('LBGI is: ' + str(cgm.LBGI(data)))\n",
    "print('HBGI is: ' + str(cgm.HBGI(data)))\n",
    "print('ADRR is: ' + str(cgm.ADRR(data)))\n",
    "print('CONGA24 is: ' + str(cgm.CONGA24(data)))\n",
    "print('GMI is: ' + str(cgm.GMI(data)))\n",
    "print('eA1c is: ' + str(cgm.eA1c(data)))\n",
    "print('summary is: ' + str(cgm.summary(data)))"
   ]
  },
  {
   "cell_type": "code",
   "execution_count": null,
   "metadata": {},
   "outputs": [],
   "source": []
  },
  {
   "cell_type": "code",
   "execution_count": null,
   "metadata": {},
   "outputs": [],
   "source": []
  },
  {
   "cell_type": "markdown",
   "metadata": {},
   "source": [
    "____\n",
    "### Thanks for joining us today for a beginner tutorial! Stay tuned for more tutorials coming soon. "
   ]
  },
  {
   "cell_type": "code",
   "execution_count": null,
   "metadata": {},
   "outputs": [],
   "source": []
  }
 ],
 "metadata": {
  "kernelspec": {
   "display_name": "Python 3",
   "language": "python",
   "name": "python3"
  },
  "language_info": {
   "codemirror_mode": {
    "name": "ipython",
    "version": 3
   },
   "file_extension": ".py",
   "mimetype": "text/x-python",
   "name": "python",
   "nbconvert_exporter": "python",
   "pygments_lexer": "ipython3",
   "version": "3.6.9"
  }
 },
 "nbformat": 4,
 "nbformat_minor": 4
}
